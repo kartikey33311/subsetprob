{
  "nbformat": 4,
  "nbformat_minor": 0,
  "metadata": {
    "colab": {
      "provenance": [],
      "authorship_tag": "ABX9TyMZNVoD62PouQSLUdzFBBIG",
      "include_colab_link": true
    },
    "kernelspec": {
      "name": "python3",
      "display_name": "Python 3"
    },
    "language_info": {
      "name": "python"
    }
  },
  "cells": [
    {
      "cell_type": "markdown",
      "metadata": {
        "id": "view-in-github",
        "colab_type": "text"
      },
      "source": [
        "<a href=\"https://colab.research.google.com/github/kartikey33311/subsetprob/blob/main/subsetprob.ipynb\" target=\"_parent\"><img src=\"https://colab.research.google.com/assets/colab-badge.svg\" alt=\"Open In Colab\"/></a>"
      ]
    },
    {
      "cell_type": "code",
      "execution_count": 1,
      "metadata": {
        "colab": {
          "base_uri": "https://localhost:8080/"
        },
        "id": "D613lTqRopxF",
        "outputId": "7df8ecf2-da08-44fc-f88e-f21c32522811"
      },
      "outputs": [
        {
          "output_type": "stream",
          "name": "stdout",
          "text": [
            "(-6, -5, -3, -2, 7, 9)\n",
            "(-8, -4, 1, 11)\n",
            "(-9, -2, 2, 9)\n",
            "(-6, -3, -2, 11)\n",
            "(-8, -5, -3, 2, 3, 11)\n",
            "(-6, -4, 3, 7)\n",
            "(-9, -5, -4, 7, 11)\n",
            "(-7, -6, 6, 7)\n",
            "(-9, -3, 1, 11)\n",
            "(-9, -7, -5, 1, 9, 11)\n",
            "(-6, -5, 2, 9)\n",
            "(-8, 1, 7)\n",
            "(-7, -4, 11)\n",
            "(-12, -6, 1, 2, 6, 9)\n",
            "(-9, -8, 1, 7, 9)\n",
            "(-12, -8, -2, 2, 9, 11)\n",
            "(-7, -4, 2, 9)\n",
            "(-6, -5, 11)\n",
            "(-6, -3, 2, 7)\n",
            "(-8, -7, -2, 6, 11)\n",
            "(-7, -5, -2, 1, 2, 11)\n",
            "(-7, 1, 6)\n",
            "(-9, -5, -2, 2, 3, 11)\n",
            "(-4, -3, 7)\n",
            "(-9, 3, 6)\n",
            "(-9, -4, 6, 7)\n",
            "(-12, -8, 9, 11)\n",
            "(-5, -4, 9)\n",
            "\n",
            "Total Sets:  28\n"
          ]
        }
      ],
      "source": [
        "import random as r\n",
        "Set = set([-12, -3, -6, 7, 2, -2, 6, 3, 9, -7, -5, -8, 1, 11, -9, -4])\n",
        "SetList = list(Set)\n",
        "SetLB = 3\n",
        "SetUB = 6\n",
        "ResultList = set()\n",
        "Iterations = 1000\n",
        "for i in range(Iterations):\n",
        "    SetSize = r.randint(SetLB,SetUB)\n",
        "    Chromosome = r.sample(SetList,SetSize)\n",
        "    Chromosome.sort()\n",
        "    if sum(Chromosome) == 0:\n",
        "        ResultList.add(tuple(Chromosome))\n",
        "\n",
        "for r in ResultList:\n",
        "\tprint(r)\n",
        "\n",
        "print (\"\\nTotal Sets: \", len(ResultList))"
      ]
    }
  ]
}